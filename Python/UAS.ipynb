{
 "cells": [
  {
   "cell_type": "code",
   "execution_count": 6,
   "metadata": {},
   "outputs": [
    {
     "name": "stdout",
     "output_type": "stream",
     "text": [
      "Alas = 5\n",
      "Tinggi = 4\n",
      "Luas Segitiga =  10.0\n"
     ]
    }
   ],
   "source": [
    "\n",
    "A = int (input(\"Alas = \"))\n",
    "T = int (input (\"Tinggi = \"))\n",
    "L = ((A*T)/2)\n",
    "print (\"Luas Segitiga = \",L,)\n"
   ]
  },
  {
   "cell_type": "code",
   "execution_count": 7,
   "metadata": {},
   "outputs": [
    {
     "name": "stdout",
     "output_type": "stream",
     "text": [
      "Masukan Nilai Anda = 23\n",
      "Selamat Anda Mengikuti Remedial\n"
     ]
    }
   ],
   "source": [
    "Nilai = input (\"Masukan Nilai Anda = \")\n",
    "if Nilai >= \"90\":\n",
    "    print (\"Nilai Anda = Sangat Memuaskan \")\n",
    "elif Nilai >= \"85\":\n",
    "    print (\"Nilai Anda = Memuaskan \")\n",
    "elif Nilai >= \"80\":\n",
    "    print (\"Nilai Anda = Cukup \")\n",
    "elif Nilai >= \"75\":\n",
    "    print (\"Nilai Anda = Rata Rata\")\n",
    "else :\n",
    "    print (\"Selamat Anda Mengikuti Remedial\")"
   ]
  },
  {
   "cell_type": "code",
   "execution_count": null,
   "metadata": {},
   "outputs": [],
   "source": [
    "N=int(input(\"Banyaknya suku = \"))\n",
    "for i in range(1,N,2):\n",
    "    print(i,\" adalah bilangan ganjil\")\n",
    "    print(i+1,\" adalah bilangan genap\")\n",
    "\n",
    "if N%2 !=0:\n",
    "    print(N,\" adalah bilangan ganji\")"
   ]
  },
  {
   "cell_type": "code",
   "execution_count": 11,
   "metadata": {},
   "outputs": [
    {
     "name": "stdout",
     "output_type": "stream",
     "text": [
      "Masukan Angka = 10\n",
      "3628800\n"
     ]
    }
   ],
   "source": [
    "def faktorial (n):\n",
    "    return n if n==1 else n * faktorial(n-1)\n",
    "n = input(\"Masukan Angka = \")\n",
    "hasil = faktorial(int(n))\n",
    "print(hasil)"
   ]
  },
  {
   "cell_type": "code",
   "execution_count": 41,
   "metadata": {},
   "outputs": [
    {
     "name": "stdout",
     "output_type": "stream",
     "text": [
      "masukan banyaknya suku = 4\n",
      "masukan suku ke - 1 = 3\n",
      "masukan suku ke - 2 = 4\n",
      "masukan suku ke - 3 = 5\n",
      "masukan suku ke - 4 = 6\n",
      "Rata - Rata = 2.5\n"
     ]
    }
   ],
   "source": [
    "def hitung (data):\n",
    "    a = 0\n",
    "    for i in range (1,int (n) + 1 , 1):\n",
    "        a =  a + i\n",
    "    return a/i\n",
    "        \n",
    "n = input(\"masukan banyaknya suku = \")\n",
    "data = []\n",
    "for i in range(1, int(n) + 1 , 1):\n",
    "    t = input(\"masukan suku ke - \" + str(i) + \" = \")\n",
    "    data.append(int(t))\n",
    "print(\"Rata - Rata = \"+ str(hitung(data)))   "
   ]
  },
  {
   "cell_type": "markdown",
   "metadata": {},
   "source": []
  },
  {
   "cell_type": "code",
   "execution_count": 43,
   "metadata": {},
   "outputs": [
    {
     "name": "stdout",
     "output_type": "stream",
     "text": [
      "apple\n"
     ]
    }
   ],
   "source": [
    "class Manusia:\n",
    "    def makan(self, buah):\n",
    "        print (buah)\n",
    "buah = \"apple\"\n",
    "taufiq = Manusia()\n",
    "taufiq.makan(buah)"
   ]
  }
 ],
 "metadata": {
  "kernelspec": {
   "display_name": "Python 3",
   "language": "python",
   "name": "python3"
  },
  "language_info": {
   "codemirror_mode": {
    "name": "ipython",
    "version": 3
   },
   "file_extension": ".py",
   "mimetype": "text/x-python",
   "name": "python",
   "nbconvert_exporter": "python",
   "pygments_lexer": "ipython3",
   "version": "3.7.3"
  }
 },
 "nbformat": 4,
 "nbformat_minor": 2
}
